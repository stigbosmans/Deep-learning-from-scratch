{
 "cells": [
  {
   "cell_type": "code",
   "execution_count": 32,
   "metadata": {},
   "outputs": [],
   "source": [
    "import numpy as np\n",
    "from keras.datasets import mnist\n",
    "import matplotlib.pyplot as plt"
   ]
  },
  {
   "cell_type": "code",
   "execution_count": 29,
   "metadata": {},
   "outputs": [],
   "source": [
    "(training_x, training_y), (test_x, test_y) = mnist.load_data()"
   ]
  },
  {
   "cell_type": "code",
   "execution_count": 30,
   "metadata": {},
   "outputs": [
    {
     "data": {
      "text/plain": [
       "(60000, 28, 28)"
      ]
     },
     "execution_count": 30,
     "metadata": {},
     "output_type": "execute_result"
    }
   ],
   "source": [
    "training_x.shape"
   ]
  },
  {
   "cell_type": "code",
   "execution_count": 37,
   "metadata": {},
   "outputs": [
    {
     "data": {
      "text/plain": [
       "<matplotlib.image.AxesImage at 0x182d5e93cf8>"
      ]
     },
     "execution_count": 37,
     "metadata": {},
     "output_type": "execute_result"
    },
    {
     "data": {
      "image/png": "[encoded data removed]",
      "text/plain": [
       "<Figure size 432x288 with 1 Axes>"
      ]
     },
     "metadata": {},
     "output_type": "display_data"
    }
   ],
   "source": [
    "training_x = training_x.reshape((training_x.shape[0], 1, 28, 28))\n",
    "training_x.shape\n",
    "plt.imshow(training_x[0,0,:,:], cmap='gray')"
   ]
  },
  {
   "cell_type": "code",
   "execution_count": 14,
   "metadata": {},
   "outputs": [],
   "source": [
    "training_x = training_x / 255."
   ]
  },
  {
   "cell_type": "code",
   "execution_count": 22,
   "metadata": {},
   "outputs": [
    {
     "name": "stdout",
     "output_type": "stream",
     "text": [
      "(32, 5, 5)\n"
     ]
    }
   ],
   "source": [
    "def conv2d(images, filters, bias, stride=1):\n",
    "    (num_samples, num_channels, i_w, i_h) = images.shape\n",
    "    (num_filters, f_w, f_h) = filters.shape\n",
    "    output_size = math.floor((i_w - f_w) / stride) + 1\n",
    "    output = np.zeros((num_filters, num_samples, num_channels, output_size, output_size))\n",
    "    for f in range(filters):\n",
    "        for o_x in range(output_size):\n",
    "            for o_y in range(output_size):\n",
    "                output[f, :] = images[:, :, o_x:o_x ]\n",
    "            \n",
    "            \n",
    "\n",
    "images = training_x[:16, :, :]\n",
    "l1_filters = np.random.randn(32, 5, 5)\n",
    "l1_bias = np.zeros((32, 1))\n",
    "conv2d(images, l1_filters, l1_bias)"
   ]
  },
  {
   "cell_type": "code",
   "execution_count": null,
   "metadata": {},
   "outputs": [],
   "source": []
  },
  {
   "cell_type": "markdown",
   "metadata": {},
   "source": [
    "Sources:\n",
    "\n",
    "https://towardsdatascience.com/convolutional-neural-networks-from-the-ground-up-c67bb41454e1"
   ]
  }
 ],
 "metadata": {
  "kernelspec": {
   "display_name": "Python 3",
   "language": "python",
   "name": "python3"
  },
  "language_info": {
   "codemirror_mode": {
    "name": "ipython",
    "version": 3
   },
   "file_extension": ".py",
   "mimetype": "text/x-python",
   "name": "python",
   "nbconvert_exporter": "python",
   "pygments_lexer": "ipython3",
   "version": "3.6.5"
  }
 },
 "nbformat": 4,
 "nbformat_minor": 2
}
